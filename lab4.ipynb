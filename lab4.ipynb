{
 "cells": [
  {
   "cell_type": "code",
   "execution_count": 1,
   "metadata": {
    "deletable": false,
    "editable": false
   },
   "outputs": [],
   "source": [
    "# Initialize Otter\n",
    "import otter\n",
    "grader = otter.Notebook(\"lab4.ipynb\")"
   ]
  },
  {
   "cell_type": "markdown",
   "metadata": {},
   "source": [
    "# Lab 4: Putting it all together in a mini project\n",
    "\n",
    "**This lab is an optional group lab.** You can choose to work alone of in a group of up to four students. You are in charge of how you want to work and who you want to work with. Maybe you really want to go through all the steps of the ML process yourself or maybe you want to practice your collaboration skills, it is up to you! Just remember to indicate who your group members are (if any) when you submit on Gradescope. If you choose to work in a group, you only need to use one of your GitHub repos."
   ]
  },
  {
   "cell_type": "markdown",
   "metadata": {},
   "source": [
    "<!-- BEGIN QUESTION -->\n",
    "\n",
    "<div class=\"alert alert-info\">\n",
    "\n",
    "## Submission instructions\n",
    "rubric={mechanics}\n",
    "\n",
    "<p>You receive marks for submitting your lab correctly, please follow these instructions:</p>\n",
    "\n",
    "<ul>\n",
    "  <li><a href=\"https://ubc-mds.github.io/resources_pages/general_lab_instructions/\">\n",
    "      Follow the general lab instructions.</a></li>\n",
    "  <li><a href=\"https://github.com/UBC-MDS/public/tree/master/rubric\">\n",
    "      Click here to view a description of the rubrics used to grade the questions</a></li>\n",
    "  <li>Make at least three commits.</li>\n",
    "  <li>Push your <code>.ipynb</code> file to your GitHub repository for this lab and upload it to Gradescope.</li>\n",
    "    <ul>\n",
    "      <li>Before submitting, make sure you restart the kernel and rerun all cells.</li>\n",
    "    </ul>\n",
    "  <li>Also upload a <code>.pdf</code> export of the notebook to facilitate grading of manual questions (preferably WebPDF, you can select two files when uploading to gradescope)</li>\n",
    "  <li>Don't change any variable names that are given to you, don't move cells around, and don't include any code to install packages in the notebook.</li>\n",
    "  <li>The data you download for this lab <b>SHOULD NOT BE PUSHED TO YOUR REPOSITORY</b> (there is also a <code>.gitignore</code> in the repo to prevent this).</li>\n",
    "  <li>Include a clickable link to your GitHub repo for the lab just below this cell\n",
    "    <ul>\n",
    "      <li>It should look something like this https://github.ubc.ca/MDS-2020-21/DSCI_531_labX_yourcwl.</li>\n",
    "    </ul>\n",
    "  </li>\n",
    "</ul>\n",
    "</div>\n",
    "\n",
    "_Points:_ 2"
   ]
  },
  {
   "cell_type": "markdown",
   "metadata": {},
   "source": [
    "https://github.ubc.ca/MDS-2022-23/DSCI_573_lab4_tanmay56.git"
   ]
  },
  {
   "cell_type": "markdown",
   "metadata": {},
   "source": [
    "<!-- END QUESTION -->\n",
    "\n",
    "## Introduction <a name=\"in\"></a>\n",
    "\n",
    "In this lab you will be working on an open-ended mini-project, where you will put all the different things you have learned so far in 571 and 573 together to solve an interesting problem.\n",
    "\n",
    "A few notes and tips when you work on this mini-project: \n",
    "\n",
    "#### Tips\n",
    "1. Since this mini-project is open-ended there might be some situations where you'll have to use your own judgment and make your own decisions (as you would be doing when you work as a data scientist). Make sure you explain your decisions whenever necessary. \n",
    "2. **Do not include everything you ever tried in your submission** -- it's fine just to have your final code. That said, your code should be reproducible and well-documented. For example, if you chose your hyperparameters based on some hyperparameter optimization experiment, you should leave in the code for that experiment so that someone else could re-run it and obtain the same hyperparameters, rather than mysteriously just setting the hyperparameters to some (carefully chosen) values in your code. \n",
    "3. If you realize that you are repeating a lot of code try to organize it in functions. Clear presentation of your code, experiments, and results is the key to be successful in this lab. You may use code from lecture notes or previous lab solutions with appropriate attributions. \n",
    "\n",
    "#### Assessment\n",
    "We don't have some secret target score that you need to achieve to get a good grade. **You'll be assessed on demonstration of mastery of course topics, clear presentation, and the quality of your analysis and results.** For example, if you just have a bunch of code and no text or figures, that's not good. If you instead do a bunch of sane things and you have clearly motivated your choices, but still get lower model performance than your friend, don't sweat it.\n",
    "\n",
    "\n",
    "#### A final note\n",
    "Finally, the style of this \"project\" question is different from other assignments. It'll be up to you to decide when you're \"done\" -- in fact, this is one of the hardest parts of real projects. But please don't spend WAY too much time on this... perhaps \"several hours\" but not \"many hours\" is a good guideline for a high quality submission. Of course if you're having fun you're welcome to spend as much time as you want! But, if so, try not to do it out of perfectionism or getting the best possible grade. Do it because you're learning and enjoying it. Students from the past cohorts have found such kind of labs useful and fun and we hope you enjoy it as well. "
   ]
  },
  {
   "cell_type": "markdown",
   "metadata": {},
   "source": [
    "<!-- BEGIN QUESTION -->\n",
    "\n",
    "<div class=\"alert alert-info\">\n",
    "\n",
    "## 1. Pick your problem and explain the prediction problem <a name=\"1\"></a>\n",
    "rubric={reasoning}\n",
    "\n",
    "In this mini project, you will pick one of the following problems: \n",
    "\n",
    "1. A classification problem of predicting whether a credit card client will default or not. For this problem, you will use [Default of Credit Card Clients Dataset](https://www.kaggle.com/uciml/default-of-credit-card-clients-dataset). In this data set, there are 30,000 examples and 24 features, and the goal is to estimate whether a person will default (fail to pay) their credit card bills; this column is labeled \"default.payment.next.month\" in the data. The rest of the columns can be used as features. You may take some ideas and compare your results with [the associated research paper](https://www.sciencedirect.com/science/article/pii/S0957417407006719), which is available through [the UBC library](https://www.library.ubc.ca/). \n",
    "\n",
    "OR \n",
    "\n",
    "2. A regression problem of predicting `reviews_per_month`, as a proxy for the popularity of the listing with [New York City Airbnb listings from 2019 dataset](https://www.kaggle.com/dgomonov/new-york-city-airbnb-open-data). Airbnb could use this sort of model to predict how popular future listings might be before they are posted, perhaps to help guide hosts create more appealing listings. In reality they might instead use something like vacancy rate or average rating as their target, but we do not have that available here.\n",
    "\n",
    "**Your tasks:**\n",
    "\n",
    "1. Spend some time understanding the problem and what each feature means. Write a few sentences on your initial thoughts on the problem and the dataset. \n",
    "2. Download the dataset and read it as a pandas dataframe. \n",
    "3. Carry out any preliminary preprocessing, if needed (e.g., changing feature names, handling of NaN values etc.)\n",
    "    \n",
    "</div>\n",
    "\n",
    "_Points:_ 3"
   ]
  },
  {
   "cell_type": "markdown",
   "metadata": {},
   "source": [
    "_Type your answer here, replacing this text._"
   ]
  },
  {
   "cell_type": "code",
   "execution_count": 4,
   "metadata": {},
   "outputs": [],
   "source": [
    "import pandas as pd"
   ]
  },
  {
   "cell_type": "code",
   "execution_count": 5,
   "metadata": {
    "tags": []
   },
   "outputs": [],
   "source": [
    "data = pd.read_csv(\"data/AB_NYC_2019.csv\")"
   ]
  },
  {
   "cell_type": "code",
   "execution_count": 6,
   "metadata": {},
   "outputs": [],
   "source": [
    "data_dropped = data.dropna()"
   ]
  },
  {
   "cell_type": "code",
   "execution_count": 30,
   "metadata": {},
   "outputs": [
    {
     "name": "stdout",
     "output_type": "stream",
     "text": [
      "<class 'pandas.core.frame.DataFrame'>\n",
      "Int64Index: 38821 entries, 0 to 48852\n",
      "Data columns (total 16 columns):\n",
      " #   Column                          Non-Null Count  Dtype  \n",
      "---  ------                          --------------  -----  \n",
      " 0   id                              38821 non-null  int64  \n",
      " 1   name                            38821 non-null  object \n",
      " 2   host_id                         38821 non-null  int64  \n",
      " 3   host_name                       38821 non-null  object \n",
      " 4   neighbourhood_group             38821 non-null  object \n",
      " 5   neighbourhood                   38821 non-null  object \n",
      " 6   latitude                        38821 non-null  float64\n",
      " 7   longitude                       38821 non-null  float64\n",
      " 8   room_type                       38821 non-null  object \n",
      " 9   price                           38821 non-null  int64  \n",
      " 10  minimum_nights                  38821 non-null  int64  \n",
      " 11  number_of_reviews               38821 non-null  int64  \n",
      " 12  last_review                     38821 non-null  object \n",
      " 13  reviews_per_month               38821 non-null  float64\n",
      " 14  calculated_host_listings_count  38821 non-null  int64  \n",
      " 15  availability_365                38821 non-null  int64  \n",
      "dtypes: float64(3), int64(7), object(6)\n",
      "memory usage: 5.0+ MB\n"
     ]
    }
   ],
   "source": [
    "data_dropped.info()"
   ]
  },
  {
   "cell_type": "code",
   "execution_count": 34,
   "metadata": {},
   "outputs": [
    {
     "data": {
      "text/html": [
       "<style type=\"text/css\">\n",
       "#T_bb4dd_row0_col0, #T_bb4dd_row1_col1, #T_bb4dd_row2_col2, #T_bb4dd_row3_col3, #T_bb4dd_row4_col4, #T_bb4dd_row5_col5, #T_bb4dd_row6_col6, #T_bb4dd_row7_col7, #T_bb4dd_row8_col8, #T_bb4dd_row9_col9 {\n",
       "  background-color: #023858;\n",
       "  color: #f1f1f1;\n",
       "}\n",
       "#T_bb4dd_row0_col1 {\n",
       "  background-color: #2f8bbe;\n",
       "  color: #f1f1f1;\n",
       "}\n",
       "#T_bb4dd_row0_col2, #T_bb4dd_row7_col2 {\n",
       "  background-color: #fef6fa;\n",
       "  color: #000000;\n",
       "}\n",
       "#T_bb4dd_row0_col3, #T_bb4dd_row9_col3 {\n",
       "  background-color: #d6d6e9;\n",
       "  color: #000000;\n",
       "}\n",
       "#T_bb4dd_row0_col4 {\n",
       "  background-color: #ece7f2;\n",
       "  color: #000000;\n",
       "}\n",
       "#T_bb4dd_row0_col5 {\n",
       "  background-color: #f9f2f8;\n",
       "  color: #000000;\n",
       "}\n",
       "#T_bb4dd_row0_col6, #T_bb4dd_row2_col9, #T_bb4dd_row3_col4, #T_bb4dd_row3_col8, #T_bb4dd_row4_col3, #T_bb4dd_row5_col7, #T_bb4dd_row6_col0, #T_bb4dd_row6_col1, #T_bb4dd_row7_col5, #T_bb4dd_row9_col2 {\n",
       "  background-color: #fff7fb;\n",
       "  color: #000000;\n",
       "}\n",
       "#T_bb4dd_row0_col7 {\n",
       "  background-color: #a8bedc;\n",
       "  color: #000000;\n",
       "}\n",
       "#T_bb4dd_row0_col8, #T_bb4dd_row1_col9, #T_bb4dd_row8_col5 {\n",
       "  background-color: #e1dfed;\n",
       "  color: #000000;\n",
       "}\n",
       "#T_bb4dd_row0_col9, #T_bb4dd_row6_col8 {\n",
       "  background-color: #fbf3f9;\n",
       "  color: #000000;\n",
       "}\n",
       "#T_bb4dd_row1_col0 {\n",
       "  background-color: #1b7eb7;\n",
       "  color: #f1f1f1;\n",
       "}\n",
       "#T_bb4dd_row1_col2 {\n",
       "  background-color: #faf3f9;\n",
       "  color: #000000;\n",
       "}\n",
       "#T_bb4dd_row1_col3, #T_bb4dd_row8_col1 {\n",
       "  background-color: #ced0e6;\n",
       "  color: #000000;\n",
       "}\n",
       "#T_bb4dd_row1_col4 {\n",
       "  background-color: #e9e5f1;\n",
       "  color: #000000;\n",
       "}\n",
       "#T_bb4dd_row1_col5, #T_bb4dd_row3_col5 {\n",
       "  background-color: #f6eff7;\n",
       "  color: #000000;\n",
       "}\n",
       "#T_bb4dd_row1_col6 {\n",
       "  background-color: #e8e4f0;\n",
       "  color: #000000;\n",
       "}\n",
       "#T_bb4dd_row1_col7 {\n",
       "  background-color: #a7bddb;\n",
       "  color: #000000;\n",
       "}\n",
       "#T_bb4dd_row1_col8, #T_bb4dd_row4_col6 {\n",
       "  background-color: #d7d6e9;\n",
       "  color: #000000;\n",
       "}\n",
       "#T_bb4dd_row2_col0, #T_bb4dd_row2_col6, #T_bb4dd_row3_col7 {\n",
       "  background-color: #d2d3e7;\n",
       "  color: #000000;\n",
       "}\n",
       "#T_bb4dd_row2_col1, #T_bb4dd_row4_col8 {\n",
       "  background-color: #eae6f1;\n",
       "  color: #000000;\n",
       "}\n",
       "#T_bb4dd_row2_col3, #T_bb4dd_row6_col9 {\n",
       "  background-color: #d9d8ea;\n",
       "  color: #000000;\n",
       "}\n",
       "#T_bb4dd_row2_col4 {\n",
       "  background-color: #e4e1ef;\n",
       "  color: #000000;\n",
       "}\n",
       "#T_bb4dd_row2_col5, #T_bb4dd_row4_col1, #T_bb4dd_row4_col5 {\n",
       "  background-color: #ebe6f2;\n",
       "  color: #000000;\n",
       "}\n",
       "#T_bb4dd_row2_col7, #T_bb4dd_row4_col9, #T_bb4dd_row6_col4, #T_bb4dd_row8_col7 {\n",
       "  background-color: #f0eaf4;\n",
       "  color: #000000;\n",
       "}\n",
       "#T_bb4dd_row2_col8, #T_bb4dd_row5_col3 {\n",
       "  background-color: #f2ecf5;\n",
       "  color: #000000;\n",
       "}\n",
       "#T_bb4dd_row3_col0 {\n",
       "  background-color: #b7c5df;\n",
       "  color: #000000;\n",
       "}\n",
       "#T_bb4dd_row3_col1 {\n",
       "  background-color: #d1d2e6;\n",
       "  color: #000000;\n",
       "}\n",
       "#T_bb4dd_row3_col2, #T_bb4dd_row7_col4 {\n",
       "  background-color: #efe9f3;\n",
       "  color: #000000;\n",
       "}\n",
       "#T_bb4dd_row3_col6 {\n",
       "  background-color: #c2cbe2;\n",
       "  color: #000000;\n",
       "}\n",
       "#T_bb4dd_row3_col9 {\n",
       "  background-color: #ede7f2;\n",
       "  color: #000000;\n",
       "}\n",
       "#T_bb4dd_row4_col0 {\n",
       "  background-color: #d2d2e7;\n",
       "  color: #000000;\n",
       "}\n",
       "#T_bb4dd_row4_col2, #T_bb4dd_row8_col3 {\n",
       "  background-color: #f7f0f7;\n",
       "  color: #000000;\n",
       "}\n",
       "#T_bb4dd_row4_col7, #T_bb4dd_row5_col1 {\n",
       "  background-color: #f3edf5;\n",
       "  color: #000000;\n",
       "}\n",
       "#T_bb4dd_row5_col0 {\n",
       "  background-color: #dddbec;\n",
       "  color: #000000;\n",
       "}\n",
       "#T_bb4dd_row5_col2, #T_bb4dd_row6_col5 {\n",
       "  background-color: #f8f1f8;\n",
       "  color: #000000;\n",
       "}\n",
       "#T_bb4dd_row5_col4 {\n",
       "  background-color: #e5e1ef;\n",
       "  color: #000000;\n",
       "}\n",
       "#T_bb4dd_row5_col6, #T_bb4dd_row9_col5 {\n",
       "  background-color: #dcdaeb;\n",
       "  color: #000000;\n",
       "}\n",
       "#T_bb4dd_row5_col8 {\n",
       "  background-color: #e6e2ef;\n",
       "  color: #000000;\n",
       "}\n",
       "#T_bb4dd_row5_col9 {\n",
       "  background-color: #ede8f3;\n",
       "  color: #000000;\n",
       "}\n",
       "#T_bb4dd_row6_col2 {\n",
       "  background-color: #fdf5fa;\n",
       "  color: #000000;\n",
       "}\n",
       "#T_bb4dd_row6_col3, #T_bb4dd_row8_col4 {\n",
       "  background-color: #e0dded;\n",
       "  color: #000000;\n",
       "}\n",
       "#T_bb4dd_row6_col7 {\n",
       "  background-color: #4295c3;\n",
       "  color: #f1f1f1;\n",
       "}\n",
       "#T_bb4dd_row7_col0 {\n",
       "  background-color: #81aed2;\n",
       "  color: #f1f1f1;\n",
       "}\n",
       "#T_bb4dd_row7_col1 {\n",
       "  background-color: #a2bcda;\n",
       "  color: #000000;\n",
       "}\n",
       "#T_bb4dd_row7_col3, #T_bb4dd_row9_col1 {\n",
       "  background-color: #cdd0e5;\n",
       "  color: #000000;\n",
       "}\n",
       "#T_bb4dd_row7_col6 {\n",
       "  background-color: #2786bb;\n",
       "  color: #f1f1f1;\n",
       "}\n",
       "#T_bb4dd_row7_col8 {\n",
       "  background-color: #f4edf6;\n",
       "  color: #000000;\n",
       "}\n",
       "#T_bb4dd_row7_col9, #T_bb4dd_row8_col6 {\n",
       "  background-color: #dad9ea;\n",
       "  color: #000000;\n",
       "}\n",
       "#T_bb4dd_row8_col0 {\n",
       "  background-color: #b8c6e0;\n",
       "  color: #000000;\n",
       "}\n",
       "#T_bb4dd_row8_col2 {\n",
       "  background-color: #fbf4f9;\n",
       "  color: #000000;\n",
       "}\n",
       "#T_bb4dd_row8_col9, #T_bb4dd_row9_col4 {\n",
       "  background-color: #dbdaeb;\n",
       "  color: #000000;\n",
       "}\n",
       "#T_bb4dd_row9_col0, #T_bb4dd_row9_col8 {\n",
       "  background-color: #d0d1e6;\n",
       "  color: #000000;\n",
       "}\n",
       "#T_bb4dd_row9_col6 {\n",
       "  background-color: #9fbad9;\n",
       "  color: #000000;\n",
       "}\n",
       "#T_bb4dd_row9_col7 {\n",
       "  background-color: #c8cde4;\n",
       "  color: #000000;\n",
       "}\n",
       "</style>\n",
       "<table id=\"T_bb4dd\">\n",
       "  <thead>\n",
       "    <tr>\n",
       "      <th class=\"blank level0\" >&nbsp;</th>\n",
       "      <th id=\"T_bb4dd_level0_col0\" class=\"col_heading level0 col0\" >id</th>\n",
       "      <th id=\"T_bb4dd_level0_col1\" class=\"col_heading level0 col1\" >host_id</th>\n",
       "      <th id=\"T_bb4dd_level0_col2\" class=\"col_heading level0 col2\" >latitude</th>\n",
       "      <th id=\"T_bb4dd_level0_col3\" class=\"col_heading level0 col3\" >longitude</th>\n",
       "      <th id=\"T_bb4dd_level0_col4\" class=\"col_heading level0 col4\" >price</th>\n",
       "      <th id=\"T_bb4dd_level0_col5\" class=\"col_heading level0 col5\" >minimum_nights</th>\n",
       "      <th id=\"T_bb4dd_level0_col6\" class=\"col_heading level0 col6\" >number_of_reviews</th>\n",
       "      <th id=\"T_bb4dd_level0_col7\" class=\"col_heading level0 col7\" >reviews_per_month</th>\n",
       "      <th id=\"T_bb4dd_level0_col8\" class=\"col_heading level0 col8\" >calculated_host_listings_count</th>\n",
       "      <th id=\"T_bb4dd_level0_col9\" class=\"col_heading level0 col9\" >availability_365</th>\n",
       "    </tr>\n",
       "  </thead>\n",
       "  <tbody>\n",
       "    <tr>\n",
       "      <th id=\"T_bb4dd_level0_row0\" class=\"row_heading level0 row0\" >id</th>\n",
       "      <td id=\"T_bb4dd_row0_col0\" class=\"data row0 col0\" >1.000000</td>\n",
       "      <td id=\"T_bb4dd_row0_col1\" class=\"data row0 col1\" >0.591480</td>\n",
       "      <td id=\"T_bb4dd_row0_col2\" class=\"data row0 col2\" >-0.010085</td>\n",
       "      <td id=\"T_bb4dd_row0_col3\" class=\"data row0 col3\" >0.103336</td>\n",
       "      <td id=\"T_bb4dd_row0_col4\" class=\"data row0 col4\" >-0.006696</td>\n",
       "      <td id=\"T_bb4dd_row0_col5\" class=\"data row0 col5\" >-0.073937</td>\n",
       "      <td id=\"T_bb4dd_row0_col6\" class=\"data row0 col6\" >-0.330019</td>\n",
       "      <td id=\"T_bb4dd_row0_col7\" class=\"data row0 col7\" >0.291786</td>\n",
       "      <td id=\"T_bb4dd_row0_col8\" class=\"data row0 col8\" >0.098446</td>\n",
       "      <td id=\"T_bb4dd_row0_col9\" class=\"data row0 col9\" >0.006624</td>\n",
       "    </tr>\n",
       "    <tr>\n",
       "      <th id=\"T_bb4dd_level0_row1\" class=\"row_heading level0 row1\" >host_id</th>\n",
       "      <td id=\"T_bb4dd_row1_col0\" class=\"data row1 col0\" >0.591480</td>\n",
       "      <td id=\"T_bb4dd_row1_col1\" class=\"data row1 col1\" >1.000000</td>\n",
       "      <td id=\"T_bb4dd_row1_col2\" class=\"data row1 col2\" >0.012823</td>\n",
       "      <td id=\"T_bb4dd_row1_col3\" class=\"data row1 col3\" >0.141276</td>\n",
       "      <td id=\"T_bb4dd_row1_col4\" class=\"data row1 col4\" >0.006263</td>\n",
       "      <td id=\"T_bb4dd_row1_col5\" class=\"data row1 col5\" >-0.051673</td>\n",
       "      <td id=\"T_bb4dd_row1_col6\" class=\"data row1 col6\" >-0.141973</td>\n",
       "      <td id=\"T_bb4dd_row1_col7\" class=\"data row1 col7\" >0.296274</td>\n",
       "      <td id=\"T_bb4dd_row1_col8\" class=\"data row1 col8\" >0.149417</td>\n",
       "      <td id=\"T_bb4dd_row1_col9\" class=\"data row1 col9\" >0.155361</td>\n",
       "    </tr>\n",
       "    <tr>\n",
       "      <th id=\"T_bb4dd_level0_row2\" class=\"row_heading level0 row2\" >latitude</th>\n",
       "      <td id=\"T_bb4dd_row2_col0\" class=\"data row2 col0\" >-0.010085</td>\n",
       "      <td id=\"T_bb4dd_row2_col1\" class=\"data row2 col1\" >0.012823</td>\n",
       "      <td id=\"T_bb4dd_row2_col2\" class=\"data row2 col2\" >1.000000</td>\n",
       "      <td id=\"T_bb4dd_row2_col3\" class=\"data row2 col3\" >0.088259</td>\n",
       "      <td id=\"T_bb4dd_row2_col4\" class=\"data row2 col4\" >0.031344</td>\n",
       "      <td id=\"T_bb4dd_row2_col5\" class=\"data row2 col5\" >0.024893</td>\n",
       "      <td id=\"T_bb4dd_row2_col6\" class=\"data row2 col6\" >-0.008559</td>\n",
       "      <td id=\"T_bb4dd_row2_col7\" class=\"data row2 col7\" >-0.010117</td>\n",
       "      <td id=\"T_bb4dd_row2_col8\" class=\"data row2 col8\" >0.004340</td>\n",
       "      <td id=\"T_bb4dd_row2_col9\" class=\"data row2 col9\" >-0.021921</td>\n",
       "    </tr>\n",
       "    <tr>\n",
       "      <th id=\"T_bb4dd_level0_row3\" class=\"row_heading level0 row3\" >longitude</th>\n",
       "      <td id=\"T_bb4dd_row3_col0\" class=\"data row3 col0\" >0.103336</td>\n",
       "      <td id=\"T_bb4dd_row3_col1\" class=\"data row3 col1\" >0.141276</td>\n",
       "      <td id=\"T_bb4dd_row3_col2\" class=\"data row3 col2\" >0.088259</td>\n",
       "      <td id=\"T_bb4dd_row3_col3\" class=\"data row3 col3\" >1.000000</td>\n",
       "      <td id=\"T_bb4dd_row3_col4\" class=\"data row3 col4\" >-0.155298</td>\n",
       "      <td id=\"T_bb4dd_row3_col5\" class=\"data row3 col5\" >-0.055414</td>\n",
       "      <td id=\"T_bb4dd_row3_col6\" class=\"data row3 col6\" >0.054746</td>\n",
       "      <td id=\"T_bb4dd_row3_col7\" class=\"data row3 col7\" >0.146228</td>\n",
       "      <td id=\"T_bb4dd_row3_col8\" class=\"data row3 col8\" >-0.093348</td>\n",
       "      <td id=\"T_bb4dd_row3_col9\" class=\"data row3 col9\" >0.102573</td>\n",
       "    </tr>\n",
       "    <tr>\n",
       "      <th id=\"T_bb4dd_level0_row4\" class=\"row_heading level0 row4\" >price</th>\n",
       "      <td id=\"T_bb4dd_row4_col0\" class=\"data row4 col0\" >-0.006696</td>\n",
       "      <td id=\"T_bb4dd_row4_col1\" class=\"data row4 col1\" >0.006263</td>\n",
       "      <td id=\"T_bb4dd_row4_col2\" class=\"data row4 col2\" >0.031344</td>\n",
       "      <td id=\"T_bb4dd_row4_col3\" class=\"data row4 col3\" >-0.155298</td>\n",
       "      <td id=\"T_bb4dd_row4_col4\" class=\"data row4 col4\" >1.000000</td>\n",
       "      <td id=\"T_bb4dd_row4_col5\" class=\"data row4 col5\" >0.025501</td>\n",
       "      <td id=\"T_bb4dd_row4_col6\" class=\"data row4 col6\" >-0.035924</td>\n",
       "      <td id=\"T_bb4dd_row4_col7\" class=\"data row4 col7\" >-0.030623</td>\n",
       "      <td id=\"T_bb4dd_row4_col8\" class=\"data row4 col8\" >0.052895</td>\n",
       "      <td id=\"T_bb4dd_row4_col9\" class=\"data row4 col9\" >0.078276</td>\n",
       "    </tr>\n",
       "    <tr>\n",
       "      <th id=\"T_bb4dd_level0_row5\" class=\"row_heading level0 row5\" >minimum_nights</th>\n",
       "      <td id=\"T_bb4dd_row5_col0\" class=\"data row5 col0\" >-0.073937</td>\n",
       "      <td id=\"T_bb4dd_row5_col1\" class=\"data row5 col1\" >-0.051673</td>\n",
       "      <td id=\"T_bb4dd_row5_col2\" class=\"data row5 col2\" >0.024893</td>\n",
       "      <td id=\"T_bb4dd_row5_col3\" class=\"data row5 col3\" >-0.055414</td>\n",
       "      <td id=\"T_bb4dd_row5_col4\" class=\"data row5 col4\" >0.025501</td>\n",
       "      <td id=\"T_bb4dd_row5_col5\" class=\"data row5 col5\" >1.000000</td>\n",
       "      <td id=\"T_bb4dd_row5_col6\" class=\"data row5 col6\" >-0.069366</td>\n",
       "      <td id=\"T_bb4dd_row5_col7\" class=\"data row5 col7\" >-0.121712</td>\n",
       "      <td id=\"T_bb4dd_row5_col8\" class=\"data row5 col8\" >0.073474</td>\n",
       "      <td id=\"T_bb4dd_row5_col9\" class=\"data row5 col9\" >0.101658</td>\n",
       "    </tr>\n",
       "    <tr>\n",
       "      <th id=\"T_bb4dd_level0_row6\" class=\"row_heading level0 row6\" >number_of_reviews</th>\n",
       "      <td id=\"T_bb4dd_row6_col0\" class=\"data row6 col0\" >-0.330019</td>\n",
       "      <td id=\"T_bb4dd_row6_col1\" class=\"data row6 col1\" >-0.141973</td>\n",
       "      <td id=\"T_bb4dd_row6_col2\" class=\"data row6 col2\" >-0.008559</td>\n",
       "      <td id=\"T_bb4dd_row6_col3\" class=\"data row6 col3\" >0.054746</td>\n",
       "      <td id=\"T_bb4dd_row6_col4\" class=\"data row6 col4\" >-0.035924</td>\n",
       "      <td id=\"T_bb4dd_row6_col5\" class=\"data row6 col5\" >-0.069366</td>\n",
       "      <td id=\"T_bb4dd_row6_col6\" class=\"data row6 col6\" >1.000000</td>\n",
       "      <td id=\"T_bb4dd_row6_col7\" class=\"data row6 col7\" >0.549699</td>\n",
       "      <td id=\"T_bb4dd_row6_col8\" class=\"data row6 col8\" >-0.059796</td>\n",
       "      <td id=\"T_bb4dd_row6_col9\" class=\"data row6 col9\" >0.193409</td>\n",
       "    </tr>\n",
       "    <tr>\n",
       "      <th id=\"T_bb4dd_level0_row7\" class=\"row_heading level0 row7\" >reviews_per_month</th>\n",
       "      <td id=\"T_bb4dd_row7_col0\" class=\"data row7 col0\" >0.291786</td>\n",
       "      <td id=\"T_bb4dd_row7_col1\" class=\"data row7 col1\" >0.296274</td>\n",
       "      <td id=\"T_bb4dd_row7_col2\" class=\"data row7 col2\" >-0.010117</td>\n",
       "      <td id=\"T_bb4dd_row7_col3\" class=\"data row7 col3\" >0.146228</td>\n",
       "      <td id=\"T_bb4dd_row7_col4\" class=\"data row7 col4\" >-0.030623</td>\n",
       "      <td id=\"T_bb4dd_row7_col5\" class=\"data row7 col5\" >-0.121712</td>\n",
       "      <td id=\"T_bb4dd_row7_col6\" class=\"data row7 col6\" >0.549699</td>\n",
       "      <td id=\"T_bb4dd_row7_col7\" class=\"data row7 col7\" >1.000000</td>\n",
       "      <td id=\"T_bb4dd_row7_col8\" class=\"data row7 col8\" >-0.009442</td>\n",
       "      <td id=\"T_bb4dd_row7_col9\" class=\"data row7 col9\" >0.185896</td>\n",
       "    </tr>\n",
       "    <tr>\n",
       "      <th id=\"T_bb4dd_level0_row8\" class=\"row_heading level0 row8\" >calculated_host_listings_count</th>\n",
       "      <td id=\"T_bb4dd_row8_col0\" class=\"data row8 col0\" >0.098446</td>\n",
       "      <td id=\"T_bb4dd_row8_col1\" class=\"data row8 col1\" >0.149417</td>\n",
       "      <td id=\"T_bb4dd_row8_col2\" class=\"data row8 col2\" >0.004340</td>\n",
       "      <td id=\"T_bb4dd_row8_col3\" class=\"data row8 col3\" >-0.093348</td>\n",
       "      <td id=\"T_bb4dd_row8_col4\" class=\"data row8 col4\" >0.052895</td>\n",
       "      <td id=\"T_bb4dd_row8_col5\" class=\"data row8 col5\" >0.073474</td>\n",
       "      <td id=\"T_bb4dd_row8_col6\" class=\"data row8 col6\" >-0.059796</td>\n",
       "      <td id=\"T_bb4dd_row8_col7\" class=\"data row8 col7\" >-0.009442</td>\n",
       "      <td id=\"T_bb4dd_row8_col8\" class=\"data row8 col8\" >1.000000</td>\n",
       "      <td id=\"T_bb4dd_row8_col9\" class=\"data row8 col9\" >0.182981</td>\n",
       "    </tr>\n",
       "    <tr>\n",
       "      <th id=\"T_bb4dd_level0_row9\" class=\"row_heading level0 row9\" >availability_365</th>\n",
       "      <td id=\"T_bb4dd_row9_col0\" class=\"data row9 col0\" >0.006624</td>\n",
       "      <td id=\"T_bb4dd_row9_col1\" class=\"data row9 col1\" >0.155361</td>\n",
       "      <td id=\"T_bb4dd_row9_col2\" class=\"data row9 col2\" >-0.021921</td>\n",
       "      <td id=\"T_bb4dd_row9_col3\" class=\"data row9 col3\" >0.102573</td>\n",
       "      <td id=\"T_bb4dd_row9_col4\" class=\"data row9 col4\" >0.078276</td>\n",
       "      <td id=\"T_bb4dd_row9_col5\" class=\"data row9 col5\" >0.101658</td>\n",
       "      <td id=\"T_bb4dd_row9_col6\" class=\"data row9 col6\" >0.193409</td>\n",
       "      <td id=\"T_bb4dd_row9_col7\" class=\"data row9 col7\" >0.185896</td>\n",
       "      <td id=\"T_bb4dd_row9_col8\" class=\"data row9 col8\" >0.182981</td>\n",
       "      <td id=\"T_bb4dd_row9_col9\" class=\"data row9 col9\" >1.000000</td>\n",
       "    </tr>\n",
       "  </tbody>\n",
       "</table>\n"
      ],
      "text/plain": [
       "<pandas.io.formats.style.Styler at 0x2930a1840>"
      ]
     },
     "execution_count": 34,
     "metadata": {},
     "output_type": "execute_result"
    }
   ],
   "source": [
    "data_dropped.corr().style.background_gradient()"
   ]
  },
  {
   "cell_type": "markdown",
   "metadata": {},
   "source": [
    "<!-- END QUESTION -->\n",
    "\n",
    "<!-- BEGIN QUESTION -->\n",
    "\n",
    "<div class=\"alert alert-info\">\n",
    "\n",
    "## 2. Data splitting <a name=\"2\"></a>\n",
    "rubric={reasoning}\n",
    "\n",
    "**Your tasks:**\n",
    "\n",
    "1. Split the data into train and test portions.\n",
    "\n",
    "> Make the decision on the `test_size` based on the capacity of your laptop. \n",
    "    \n",
    "</div>\n",
    "\n",
    "_Points:_ 1"
   ]
  },
  {
   "cell_type": "code",
   "execution_count": null,
   "metadata": {
    "tags": []
   },
   "outputs": [],
   "source": [
    "..."
   ]
  },
  {
   "cell_type": "markdown",
   "metadata": {},
   "source": [
    "<!-- END QUESTION -->\n",
    "\n",
    "<!-- BEGIN QUESTION -->\n",
    "\n",
    "<div class=\"alert alert-info\">\n",
    "\n",
    "## 3. EDA <a name=\"3\"></a>\n",
    "rubric={viz,reasoning}\n",
    "    \n",
    "Perform exploratory data analysis on the train set.\n",
    "\n",
    "**Your tasks:**\n",
    "\n",
    "1. Include at least two summary statistics and two visualizations that you find useful, and accompany each one with a sentence explaining it.\n",
    "2. Summarize your initial observations about the data. \n",
    "3. Pick appropriate metric/metrics for assessment. \n",
    "    \n",
    "</div>\n",
    "\n",
    "_Points:_ 6"
   ]
  },
  {
   "cell_type": "markdown",
   "metadata": {},
   "source": [
    "_Type your answer here, replacing this text._"
   ]
  },
  {
   "cell_type": "code",
   "execution_count": null,
   "metadata": {
    "tags": []
   },
   "outputs": [],
   "source": [
    "..."
   ]
  },
  {
   "cell_type": "markdown",
   "metadata": {},
   "source": [
    "<!-- END QUESTION -->\n",
    "\n",
    "<!-- BEGIN QUESTION -->\n",
    "\n",
    "<div class=\"alert alert-warning\">\n",
    "\n",
    "## 4. Feature engineering (Challenging)\n",
    "rubric={reasoning}\n",
    "\n",
    "**Your tasks:**\n",
    "\n",
    "1. Carry out feature engineering. In other words, extract new features relevant for the problem and work with your new feature set in the following exercises. You may have to go back and forth between feature engineering and preprocessing.\n",
    "    \n",
    "</div>\n",
    "\n",
    "_Points:_ 0.5"
   ]
  },
  {
   "cell_type": "code",
   "execution_count": null,
   "metadata": {
    "tags": []
   },
   "outputs": [],
   "source": [
    "..."
   ]
  },
  {
   "cell_type": "markdown",
   "metadata": {},
   "source": [
    "<!-- END QUESTION -->\n",
    "\n",
    "<!-- BEGIN QUESTION -->\n",
    "\n",
    "<div class=\"alert alert-info\">\n",
    "\n",
    "## 5. Preprocessing and transformations <a name=\"5\"></a>\n",
    "rubric={accuracy,reasoning}\n",
    "\n",
    "**Your tasks:**\n",
    "\n",
    "1. Identify different feature types and the transformations you would apply on each feature type. \n",
    "2. Define a column transformer, if necessary. \n",
    "    \n",
    "</div>\n",
    "\n",
    "_Points:_ 4"
   ]
  },
  {
   "cell_type": "code",
   "execution_count": null,
   "metadata": {
    "tags": []
   },
   "outputs": [],
   "source": [
    "..."
   ]
  },
  {
   "cell_type": "markdown",
   "metadata": {},
   "source": [
    "<!-- END QUESTION -->\n",
    "\n",
    "<!-- BEGIN QUESTION -->\n",
    "\n",
    "<div class=\"alert alert-info\">\n",
    "\n",
    "## 6. Baseline model <a name=\"6\"></a>\n",
    "rubric={accuracy}\n",
    "\n",
    "**Your tasks:**\n",
    "1. Train a baseline model for your task and report its performance.\n",
    "    \n",
    "</div>\n",
    "\n",
    "_Points:_ 2"
   ]
  },
  {
   "cell_type": "code",
   "execution_count": null,
   "metadata": {
    "tags": []
   },
   "outputs": [],
   "source": [
    "..."
   ]
  },
  {
   "cell_type": "markdown",
   "metadata": {},
   "source": [
    "<!-- END QUESTION -->\n",
    "\n",
    "<!-- BEGIN QUESTION -->\n",
    "\n",
    "<div class=\"alert alert-info\">\n",
    "\n",
    "## 7. Linear models <a name=\"7\"></a>\n",
    "rubric={accuracy,reasoning}\n",
    "\n",
    "**Your tasks:**\n",
    "\n",
    "1. Try a linear model as a first real attempt. \n",
    "2. Carry out hyperparameter tuning to explore different values for the regularization hyperparameter. \n",
    "3. Report cross-validation scores along with standard deviation. \n",
    "4. Summarize your results.\n",
    "    \n",
    "</div>\n",
    "\n",
    "_Points:_ 8"
   ]
  },
  {
   "cell_type": "markdown",
   "metadata": {},
   "source": [
    "_Type your answer here, replacing this text._"
   ]
  },
  {
   "cell_type": "code",
   "execution_count": null,
   "metadata": {
    "tags": []
   },
   "outputs": [],
   "source": [
    "..."
   ]
  },
  {
   "cell_type": "markdown",
   "metadata": {},
   "source": [
    "<!-- END QUESTION -->\n",
    "\n",
    "<!-- BEGIN QUESTION -->\n",
    "\n",
    "<div class=\"alert alert-info\">\n",
    "\n",
    "## 8. Different models <a name=\"8\"></a>\n",
    "rubric={accuracy,reasoning}\n",
    "\n",
    "**Your tasks:**\n",
    "1. Try out three other models aside from the linear model. \n",
    "2. Summarize your results in terms of overfitting/underfitting and fit and score times. Can you beat the performance of the linear model? \n",
    "    \n",
    "</div>\n",
    "\n",
    "_Points:_ 10"
   ]
  },
  {
   "cell_type": "markdown",
   "metadata": {},
   "source": [
    "_Type your answer here, replacing this text._"
   ]
  },
  {
   "cell_type": "code",
   "execution_count": null,
   "metadata": {
    "tags": []
   },
   "outputs": [],
   "source": [
    "..."
   ]
  },
  {
   "cell_type": "markdown",
   "metadata": {},
   "source": [
    "<!-- END QUESTION -->\n",
    "\n",
    "<!-- BEGIN QUESTION -->\n",
    "\n",
    "<div class=\"alert alert-warning\">\n",
    "\n",
    "## 9. Feature selection (Challenging)\n",
    "rubric={reasoning}\n",
    "\n",
    "**Your tasks:**\n",
    "\n",
    "Make some attempts to select relevant features. You may try `RFECV`, forward selection or L1 regularization for this. Do the results improve with feature selection? Summarize your results. If you see improvements in the results, keep feature selection in your pipeline. If not, you may abandon it in the next exercises unless you think there are other benefits with using less features.\n",
    "    \n",
    "</div>\n",
    "\n",
    "_Points:_ 0.5"
   ]
  },
  {
   "cell_type": "markdown",
   "metadata": {},
   "source": [
    "_Type your answer here, replacing this text._"
   ]
  },
  {
   "cell_type": "code",
   "execution_count": null,
   "metadata": {
    "tags": []
   },
   "outputs": [],
   "source": [
    "..."
   ]
  },
  {
   "cell_type": "markdown",
   "metadata": {},
   "source": [
    "<!-- END QUESTION -->\n",
    "\n",
    "<!-- BEGIN QUESTION -->\n",
    "\n",
    "<div class=\"alert alert-info\">\n",
    "\n",
    "## 10. Hyperparameter optimization\n",
    "rubric={accuracy,reasoning}\n",
    "\n",
    "**Your tasks:**\n",
    "\n",
    "Make some attempts to optimize hyperparameters for the models you've tried and summarize your results. In at least one case you should be optimizing multiple hyperparameters for a single model. You may use `sklearn`'s methods for hyperparameter optimization or fancier Bayesian optimization methods. \n",
    "  - [GridSearchCV](http://scikit-learn.org/stable/modules/generated/sklearn.model_selection.GridSearchCV.html)   \n",
    "  - [RandomizedSearchCV](http://scikit-learn.org/stable/modules/generated/sklearn.model_selection.RandomizedSearchCV.html)\n",
    "  - [scikit-optimize](https://github.com/scikit-optimize/scikit-optimize) \n",
    "    \n",
    "</div>\n",
    "\n",
    "_Points:_ 6"
   ]
  },
  {
   "cell_type": "markdown",
   "metadata": {},
   "source": [
    "_Type your answer here, replacing this text._"
   ]
  },
  {
   "cell_type": "code",
   "execution_count": null,
   "metadata": {
    "tags": []
   },
   "outputs": [],
   "source": [
    "..."
   ]
  },
  {
   "cell_type": "markdown",
   "metadata": {},
   "source": [
    "<!-- END QUESTION -->\n",
    "\n",
    "<!-- BEGIN QUESTION -->\n",
    "\n",
    "<div class=\"alert alert-info\">\n",
    "\n",
    "## 11. Interpretation and feature importances <a name=\"1\"></a>\n",
    "rubric={accuracy,reasoning}\n",
    "\n",
    "**Your tasks:**\n",
    "\n",
    "1. Use the methods we saw in class (e.g., `eli5`, `shap`) (or any other methods of your choice) to examine the most important features of one of the non-linear models. \n",
    "2. Summarize your observations. \n",
    "    \n",
    "</div>\n",
    "\n",
    "_Points:_ 8"
   ]
  },
  {
   "cell_type": "markdown",
   "metadata": {},
   "source": [
    "_Type your answer here, replacing this text._"
   ]
  },
  {
   "cell_type": "code",
   "execution_count": null,
   "metadata": {
    "tags": []
   },
   "outputs": [],
   "source": [
    "..."
   ]
  },
  {
   "cell_type": "markdown",
   "metadata": {},
   "source": [
    "<!-- END QUESTION -->\n",
    "\n",
    "<!-- BEGIN QUESTION -->\n",
    "\n",
    "<div class=\"alert alert-info\">\n",
    "\n",
    "## 12. Results on the test set <a name=\"12\"></a>\n",
    "rubric={accuracy,reasoning}\n",
    "\n",
    "**Your tasks:**\n",
    "\n",
    "1. Try your best performing model on the test data and report test scores. \n",
    "2. Do the test scores agree with the validation scores from before? To what extent do you trust your results? Do you think you've had issues with optimization bias? \n",
    "3. Take one or two test predictions and explain them with SHAP force plots.  \n",
    "    \n",
    "</div>\n",
    "\n",
    "_Points:_ 6"
   ]
  },
  {
   "cell_type": "markdown",
   "metadata": {},
   "source": [
    "_Type your answer here, replacing this text._"
   ]
  },
  {
   "cell_type": "code",
   "execution_count": null,
   "metadata": {
    "tags": []
   },
   "outputs": [],
   "source": [
    "..."
   ]
  },
  {
   "cell_type": "markdown",
   "metadata": {},
   "source": [
    "<!-- END QUESTION -->\n",
    "\n",
    "<!-- BEGIN QUESTION -->\n",
    "\n",
    "<div class=\"alert alert-info\">\n",
    "\n",
    "## 13. Summary of results <a name=\"13\"></a>\n",
    "rubric={reasoning}\n",
    "\n",
    "Imagine that you want to present the summary of these results to your boss and co-workers. \n",
    "\n",
    "**Your tasks:**\n",
    "\n",
    "1. Create a table summarizing important results. \n",
    "2. Write concluding remarks.\n",
    "3. Discuss other ideas that you did not try but could potentially improve the performance/interpretability . \n",
    "3. Report your final test score along with the metric you used at the top of this notebook.\n",
    "    \n",
    "</div>\n",
    "\n",
    "_Points:_ 8"
   ]
  },
  {
   "cell_type": "markdown",
   "metadata": {},
   "source": [
    "_Type your answer here, replacing this text._"
   ]
  },
  {
   "cell_type": "code",
   "execution_count": null,
   "metadata": {
    "tags": []
   },
   "outputs": [],
   "source": [
    "..."
   ]
  },
  {
   "cell_type": "markdown",
   "metadata": {},
   "source": [
    "<!-- END QUESTION -->\n",
    "\n",
    "<!-- BEGIN QUESTION -->\n",
    "\n",
    "<div class=\"alert alert-warning\">\n",
    "\n",
    "## 14. Creating a data analysis pipeline (Challenging)\n",
    "rubric={reasoning}\n",
    "\n",
    "**Your tasks:**\n",
    "- In 522 you learned how build a reproducible data analysis pipeline. Convert this notebook into scripts and create a reproducible data analysis pipeline with appropriate documentation. Submit your project folder in addition to this notebook on GitHub and briefly comment on your organization in the text box below.\n",
    "    \n",
    "</div>\n",
    "\n",
    "_Points:_ 2"
   ]
  },
  {
   "cell_type": "markdown",
   "metadata": {},
   "source": [
    "_Type your answer here, replacing this text._"
   ]
  },
  {
   "cell_type": "markdown",
   "metadata": {},
   "source": [
    "<!-- END QUESTION -->\n",
    "\n",
    "<!-- BEGIN QUESTION -->\n",
    "\n",
    "<div class=\"alert alert-warning\">\n",
    "\n",
    "## 15. Your takeaway from the course (Challenging)\n",
    "rubric={reasoning}\n",
    "\n",
    "**Your tasks:**\n",
    "\n",
    "What is your biggest takeaway from this course? \n",
    "    \n",
    "</div>\n",
    "\n",
    "_Points:_ 0.25"
   ]
  },
  {
   "cell_type": "markdown",
   "metadata": {},
   "source": [
    "_Type your answer here, replacing this text._"
   ]
  },
  {
   "cell_type": "markdown",
   "metadata": {},
   "source": [
    "<!-- END QUESTION -->\n",
    "\n",
    "<div class=\"alert alert-danger\" style=\"color:black\">\n",
    "    \n",
    "**Restart, run all and export a PDF before submitting**\n",
    "    \n",
    "Before submitting,\n",
    "don't forget to run all cells in your notebook\n",
    "to make sure there are no errors\n",
    "and so that the TAs can see your plots on Gradescope.\n",
    "You can do this by clicking the ▶▶ button\n",
    "or going to `Kernel -> Restart Kernel and Run All Cells...` in the menu.\n",
    "This is not only important for MDS,\n",
    "but a good habit you should get into before ever committing a notebook to GitHub,\n",
    "so that your collaborators can run it from top to bottom\n",
    "without issues.\n",
    "    \n",
    "After running all the cells,\n",
    "export a PDF of the notebook (preferably the WebPDF export)\n",
    "and upload this PDF together with the ipynb file to Gradescope\n",
    "(you can select two files when uploading to Gradescope)\n",
    "</div>"
   ]
  },
  {
   "cell_type": "markdown",
   "metadata": {
    "tags": [
     "feedback"
    ]
   },
   "source": [
    "---\n",
    "\n",
    "## Help us improve the labs\n",
    "\n",
    "The MDS program is continually looking to improve our courses, including lab questions and content. The following optional questions will not affect your grade in any way nor will they be used for anything other than program improvement:\n",
    "\n",
    "1. Approximately how many hours did you spend working or thinking about this assignment (including lab time)?\n",
    "\n",
    "#Ans:\n",
    "\n",
    "2. Do you have any feedback on the lab you be willing to share? For example, any part or question that you particularly liked or disliked?\n",
    "\n",
    "#Ans:"
   ]
  }
 ],
 "metadata": {
  "kernelspec": {
   "display_name": "Python [conda env:573]",
   "language": "python",
   "name": "conda-env-573-py"
  },
  "language_info": {
   "codemirror_mode": {
    "name": "ipython",
    "version": 3
   },
   "file_extension": ".py",
   "mimetype": "text/x-python",
   "name": "python",
   "nbconvert_exporter": "python",
   "pygments_lexer": "ipython3",
   "version": "3.10.6"
  },
  "otter": {
   "OK_FORMAT": true,
   "tests": {}
  }
 },
 "nbformat": 4,
 "nbformat_minor": 4
}
